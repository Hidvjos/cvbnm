{
  "nbformat": 4,
  "nbformat_minor": 0,
  "metadata": {
    "colab": {
      "name": "Лаба1",
      "provenance": [],
      "collapsed_sections": [],
      "authorship_tag": "ABX9TyP+jpNXIPr7T4Vvf7ejTT4r",
      "include_colab_link": true
    },
    "kernelspec": {
      "name": "python3",
      "display_name": "Python 3"
    }
  },
  "cells": [
    {
      "cell_type": "markdown",
      "metadata": {
        "id": "view-in-github",
        "colab_type": "text"
      },
      "source": [
        "<a href=\"https://colab.research.google.com/github/Hidvjos/cvbnm/blob/main/%D0%9B%D0%B0%D0%B1%D0%B01.ipynb\" target=\"_parent\"><img src=\"https://colab.research.google.com/assets/colab-badge.svg\" alt=\"Open In Colab\"/></a>"
      ]
    },
    {
      "cell_type": "markdown",
      "metadata": {
        "id": "PRPTkLpF2nYZ"
      },
      "source": [
        "**Григорьева Анастасия Максимовна, КИ19-20Б**"
      ]
    },
    {
      "cell_type": "code",
      "metadata": {
        "colab": {
          "base_uri": "https://localhost:8080/"
        },
        "id": "F7QBsuIz2c_P",
        "outputId": "f5410fd1-c15a-4248-fc29-5270bee39a6e"
      },
      "source": [
        "print('Привет, мир!')"
      ],
      "execution_count": null,
      "outputs": [
        {
          "output_type": "stream",
          "text": [
            "Привет, мир!\n"
          ],
          "name": "stdout"
        }
      ]
    }
  ]
}